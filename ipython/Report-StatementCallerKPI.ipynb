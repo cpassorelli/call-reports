{
 "cells": [
  {
   "cell_type": "code",
   "execution_count": 0,
   "metadata": {
    "application/vnd.databricks.v1+cell": {
     "inputWidgets": {},
     "nuid": "bb4b5172-7f2b-420b-a9f4-1b7f9ef6181e",
     "showTitle": false,
     "title": ""
    }
   },
   "outputs": [
    {
     "data": {
      "text/html": [
       "<style scoped>\n",
       "  .ansiout {\n",
       "    display: block;\n",
       "    unicode-bidi: embed;\n",
       "    white-space: pre-wrap;\n",
       "    word-wrap: break-word;\n",
       "    word-break: break-all;\n",
       "    font-family: \"Source Code Pro\", \"Menlo\", monospace;;\n",
       "    font-size: 13px;\n",
       "    color: #555;\n",
       "    margin-left: 4px;\n",
       "    line-height: 19px;\n",
       "  }\n",
       "</style>\n",
       "<div class=\"ansiout\">Already Mounted\n",
       "</div>"
      ]
     },
     "metadata": {
      "application/vnd.databricks.v1+output": {
       "addedWidgets": {},
       "arguments": {},
       "data": "<div class=\"ansiout\">Already Mounted\n</div>",
       "datasetInfos": [],
       "metadata": {},
       "removedWidgets": [],
       "type": "html"
      }
     },
     "output_type": "display_data"
    }
   ],
   "source": [
    "import os\n",
    "#SCOPE = 'silo-key-vault-scope'\n",
    "STORAGE_ACCOUNT_NAME = 'smlake'\n",
    "CONTAINER_NAME = 'bronze'\n",
    "MOUNT_POINT = os.path.join('/mnt', STORAGE_ACCOUNT_NAME, CONTAINER_NAME)\n",
    "# Mount Azure blob\n",
    "try:\n",
    "    #key = dbutils.secrets.get(scope=SCOPE, key=SMLAKE-KEY)\n",
    "    \n",
    "    configs = {\n",
    "        'source': f'wasbs://{CONTAINER_NAME}@{STORAGE_ACCOUNT_NAME}.blob.core.windows.net',\n",
    "        'mount_point': MOUNT_POINT,\n",
    "        'extra_configs': {f'fs.azure.account.key.{STORAGE_ACCOUNT_NAME}.blob.core.windows.net': 'sHyeld1YUP5i3Tixfn8s41SibTcZ+DsN35tfsK7noQXDGGjHk0frX5DGuUaFuomachwvv8OY5bVL6NOWqdW9EQ=='}    \n",
    "    }\n",
    "    if any(mount.mountPoint == MOUNT_POINT for mount in dbutils.fs.mounts()):\n",
    "        print(\"Already Mounted\")\n",
    "    else:\n",
    "        dbutils.fs.mount(**configs)\n",
    "except Exception as error:\n",
    "    messages = str(error).split('\\n')[:2]\n",
    "    message = '\\n'.join(messages)\n",
    "    logger.warning(message)"
   ]
  },
  {
   "cell_type": "code",
   "execution_count": 0,
   "metadata": {
    "application/vnd.databricks.v1+cell": {
     "inputWidgets": {},
     "nuid": "a96a9c70-c175-46a2-a7d4-709f957982a7",
     "showTitle": false,
     "title": ""
    }
   },
   "outputs": [
    {
     "data": {
      "text/html": [
       "<style scoped>\n",
       "  .ansiout {\n",
       "    display: block;\n",
       "    unicode-bidi: embed;\n",
       "    white-space: pre-wrap;\n",
       "    word-wrap: break-word;\n",
       "    word-break: break-all;\n",
       "    font-family: \"Source Code Pro\", \"Menlo\", monospace;;\n",
       "    font-size: 13px;\n",
       "    color: #555;\n",
       "    margin-left: 4px;\n",
       "    line-height: 19px;\n",
       "  }\n",
       "</style>\n",
       "<div class=\"ansiout\"></div>"
      ]
     },
     "metadata": {
      "application/vnd.databricks.v1+output": {
       "addedWidgets": {},
       "arguments": {},
       "data": "<div class=\"ansiout\"></div>",
       "datasetInfos": [],
       "metadata": {},
       "removedWidgets": [],
       "type": "html"
      }
     },
     "output_type": "display_data"
    }
   ],
   "source": [
    "from pyspark.sql.functions import *\n",
    "from pyspark.sql.types import *\n",
    "#spark.conf.set('spark.sql.adaptive.enabled', 'true')\n",
    "\n",
    "#paths\n",
    "ZoomDataLoad = MOUNT_POINT + \"/ZoomData/formattedAccountCallLogs.parquet\"\n",
    "rm_DVStatementRequestActivityRecords = MOUNT_POINT + \"/OnBase/rm_DVStatementRequestActivityRecords.parquet\"\n",
    "rm_DVStatementRequests = MOUNT_POINT + \"/OnBase/rm_DVStatementRequests.parquet\"\n",
    "rm_DVVendorContacts = MOUNT_POINT + \"/OnBase/rm_DVVendorContacts.parquet\"\n",
    "\n",
    "#loads\n",
    "dfZoomData = spark.read.load(ZoomDataLoad)\n",
    "rm_DVStatementRequestActivityRecords = spark.read.load(rm_DVStatementRequestActivityRecords).withColumn(\"add_minutes\", col(\"CreatedDate\") + expr(\"INTERVAL 5 minutes\")).withColumn(\"sub_minutes\", col(\"CreatedDate\") - expr(\"INTERVAL 5 minutes\"))\n",
    "rm_DVStatementRequests = spark.read.load(rm_DVStatementRequests)\n",
    "rm_DVVendorContacts = spark.read.load(rm_DVVendorContacts)\n",
    "\n",
    "#cleanup\n",
    "rm_DVStatementRequestActivityRecords = rm_DVStatementRequestActivityRecords.withColumn(\"ActivityUser\", trim(col(\"ActivityUser\")))\n",
    "rm_DVVendorContacts = rm_DVVendorContacts.withColumn(\"Phone\", regexp_replace(col(\"Phone\"), r'\\D', ''))\n",
    "dfZoomData = dfZoomData.withColumn(\"Callee_number\", regexp_replace(col(\"Callee_number\"), r'\\D', '')).withColumn(\"Callee_number\", regexp_extract(col(\"Callee_number\"),'\\d{10}$',0)).withColumn(\"Caller_number\", regexp_replace(col(\"Caller_number\"), r'\\D', '')).withColumn(\"Caller_number\", regexp_extract(col(\"Caller_number\"),'\\d{10}$',0))\n",
    "\n",
    "#temp tables\n",
    "dfZoomData.createOrReplaceTempView(\"ZoomData\")\n",
    "rm_DVStatementRequestActivityRecords.createOrReplaceTempView(\"rm_DVStatementRequestActivityRecords\")\n",
    "rm_DVStatementRequests.createOrReplaceTempView(\"rm_DVStatementRequests\")\n",
    "rm_DVVendorContacts.createOrReplaceTempView(\"rm_DVVendorContacts\")"
   ]
  },
  {
   "cell_type": "code",
   "execution_count": 0,
   "metadata": {
    "application/vnd.databricks.v1+cell": {
     "inputWidgets": {},
     "nuid": "f2999484-2e9d-4578-b67a-ccb7e096db7e",
     "showTitle": false,
     "title": ""
    }
   },
   "outputs": [],
   "source": [
    "%sql\n",
    "--Select * FROM rm_DVVendorContacts"
   ]
  },
  {
   "cell_type": "code",
   "execution_count": 0,
   "metadata": {
    "application/vnd.databricks.v1+cell": {
     "inputWidgets": {},
     "nuid": "ab674b2c-2ad4-4803-a271-ddd63d6688f2",
     "showTitle": false,
     "title": ""
    }
   },
   "outputs": [
    {
     "data": {
      "text/html": [
       "<style scoped>\n",
       "  .table-result-container {\n",
       "    max-height: 300px;\n",
       "    overflow: auto;\n",
       "  }\n",
       "  table, th, td {\n",
       "    border: 1px solid black;\n",
       "    border-collapse: collapse;\n",
       "  }\n",
       "  th, td {\n",
       "    padding: 5px;\n",
       "  }\n",
       "  th {\n",
       "    text-align: left;\n",
       "  }\n",
       "</style><div class='table-result-container'><table class='table-result'><thead style='background-color: white'><tr></tr></thead><tbody></tbody></table></div>"
      ]
     },
     "metadata": {
      "application/vnd.databricks.v1+output": {
       "addedWidgets": {},
       "aggData": [],
       "aggError": "",
       "aggOverflow": false,
       "aggSchema": [],
       "aggSeriesLimitReached": false,
       "aggType": "",
       "arguments": {},
       "columnCustomDisplayInfos": {},
       "data": [],
       "datasetInfos": [],
       "dbfsResultPath": null,
       "isJsonSchema": true,
       "metadata": {},
       "overflow": false,
       "plotOptions": {
        "customPlotOptions": {},
        "displayType": "table",
        "pivotAggregation": null,
        "pivotColumns": null,
        "xColumns": null,
        "yColumns": null
       },
       "removedWidgets": [],
       "schema": [],
       "type": "table"
      }
     },
     "output_type": "display_data"
    }
   ],
   "source": [
    "%sql\n",
    "DROP TABLE IF EXISTS StatementRequestActivityRecordsCallData"
   ]
  },
  {
   "cell_type": "code",
   "execution_count": 0,
   "metadata": {
    "application/vnd.databricks.v1+cell": {
     "inputWidgets": {},
     "nuid": "609184de-8e06-4d4b-9bfd-a5cce6e3d6b2",
     "showTitle": false,
     "title": ""
    }
   },
   "outputs": [
    {
     "data": {
      "text/html": [
       "<style scoped>\n",
       "  .ansiout {\n",
       "    display: block;\n",
       "    unicode-bidi: embed;\n",
       "    white-space: pre-wrap;\n",
       "    word-wrap: break-word;\n",
       "    word-break: break-all;\n",
       "    font-family: \"Source Code Pro\", \"Menlo\", monospace;;\n",
       "    font-size: 13px;\n",
       "    color: #555;\n",
       "    margin-left: 4px;\n",
       "    line-height: 19px;\n",
       "  }\n",
       "</style>"
      ]
     },
     "metadata": {
      "application/vnd.databricks.v1+output": {
       "arguments": {},
       "data": "",
       "errorSummary": "",
       "errorTraceType": null,
       "metadata": {},
       "type": "ipynbError"
      }
     },
     "output_type": "display_data"
    }
   ],
   "source": []
  },
  {
   "cell_type": "code",
   "execution_count": 0,
   "metadata": {
    "application/vnd.databricks.v1+cell": {
     "inputWidgets": {},
     "nuid": "ef3a7dfa-4bea-47e6-a770-cba849fbf788",
     "showTitle": false,
     "title": ""
    }
   },
   "outputs": [
    {
     "data": {
      "text/html": [
       "<style scoped>\n",
       "  .table-result-container {\n",
       "    max-height: 300px;\n",
       "    overflow: auto;\n",
       "  }\n",
       "  table, th, td {\n",
       "    border: 1px solid black;\n",
       "    border-collapse: collapse;\n",
       "  }\n",
       "  th, td {\n",
       "    padding: 5px;\n",
       "  }\n",
       "  th {\n",
       "    text-align: left;\n",
       "  }\n",
       "</style><div class='table-result-container'><table class='table-result'><thead style='background-color: white'><tr><th>ObjectID</th><th>CreatedDate</th><th>ReferenceNumber</th><th>CustomerVendorName</th><th>JobNumber</th><th>JobName</th><th>ActivityUser</th><th>ActivityDate</th><th>FollowUpDate</th><th>STNID</th><th>Notes</th><th>Outcome</th><th>ActivityType</th><th>CustVendorObjectID</th><th>VendorContactObjectID</th><th>StatementRequestObjectID</th><th>CreatedBy</th><th>sub_minutes</th><th>add_minutes</th><th>Phone</th><th>ContactType</th><th>Status</th><th>StatementWNC</th><th>Caller_name</th><th>Caller_number</th><th>Callee_name</th><th>Callee_number</th><th>duration</th><th>result</th><th>direction</th><th>type</th><th>call_id</th><th>id</th><th>path</th><th>call_type</th><th>extension_number</th><th>date_time_est</th></tr></thead><tbody></tbody></table></div>"
      ]
     },
     "metadata": {
      "application/vnd.databricks.v1+output": {
       "addedWidgets": {},
       "aggData": [],
       "aggError": "",
       "aggOverflow": false,
       "aggSchema": [],
       "aggSeriesLimitReached": false,
       "aggType": "",
       "arguments": {},
       "columnCustomDisplayInfos": {},
       "data": [],
       "datasetInfos": [],
       "dbfsResultPath": null,
       "isJsonSchema": true,
       "metadata": {},
       "overflow": false,
       "plotOptions": {
        "customPlotOptions": {},
        "displayType": "table",
        "pivotAggregation": null,
        "pivotColumns": null,
        "xColumns": null,
        "yColumns": null
       },
       "removedWidgets": [],
       "schema": [
        {
         "metadata": "{}",
         "name": "ObjectID",
         "type": "\"integer\""
        },
        {
         "metadata": "{}",
         "name": "CreatedDate",
         "type": "\"timestamp\""
        },
        {
         "metadata": "{}",
         "name": "ReferenceNumber",
         "type": "\"integer\""
        },
        {
         "metadata": "{}",
         "name": "CustomerVendorName",
         "type": "\"string\""
        },
        {
         "metadata": "{}",
         "name": "JobNumber",
         "type": "\"integer\""
        },
        {
         "metadata": "{}",
         "name": "JobName",
         "type": "\"string\""
        },
        {
         "metadata": "{}",
         "name": "ActivityUser",
         "type": "\"string\""
        },
        {
         "metadata": "{}",
         "name": "ActivityDate",
         "type": "\"timestamp\""
        },
        {
         "metadata": "{}",
         "name": "FollowUpDate",
         "type": "\"timestamp\""
        },
        {
         "metadata": "{}",
         "name": "STNID",
         "type": "\"integer\""
        },
        {
         "metadata": "{}",
         "name": "Notes",
         "type": "\"string\""
        },
        {
         "metadata": "{}",
         "name": "Outcome",
         "type": "\"string\""
        },
        {
         "metadata": "{}",
         "name": "ActivityType",
         "type": "\"string\""
        },
        {
         "metadata": "{}",
         "name": "CustVendorObjectID",
         "type": "\"integer\""
        },
        {
         "metadata": "{}",
         "name": "VendorContactObjectID",
         "type": "\"integer\""
        },
        {
         "metadata": "{}",
         "name": "StatementRequestObjectID",
         "type": "\"integer\""
        },
        {
         "metadata": "{}",
         "name": "CreatedBy",
         "type": "\"string\""
        },
        {
         "metadata": "{}",
         "name": "sub_minutes",
         "type": "\"timestamp\""
        },
        {
         "metadata": "{}",
         "name": "add_minutes",
         "type": "\"timestamp\""
        },
        {
         "metadata": "{}",
         "name": "Phone",
         "type": "\"string\""
        },
        {
         "metadata": "{}",
         "name": "ContactType",
         "type": "\"string\""
        },
        {
         "metadata": "{}",
         "name": "Status",
         "type": "\"string\""
        },
        {
         "metadata": "{}",
         "name": "StatementWNC",
         "type": "\"integer\""
        },
        {
         "metadata": "{}",
         "name": "Caller_name",
         "type": "\"string\""
        },
        {
         "metadata": "{}",
         "name": "Caller_number",
         "type": "\"string\""
        },
        {
         "metadata": "{}",
         "name": "Callee_name",
         "type": "\"string\""
        },
        {
         "metadata": "{}",
         "name": "Callee_number",
         "type": "\"string\""
        },
        {
         "metadata": "{}",
         "name": "duration",
         "type": "\"long\""
        },
        {
         "metadata": "{}",
         "name": "result",
         "type": "\"string\""
        },
        {
         "metadata": "{}",
         "name": "direction",
         "type": "\"string\""
        },
        {
         "metadata": "{}",
         "name": "type",
         "type": "\"string\""
        },
        {
         "metadata": "{}",
         "name": "call_id",
         "type": "\"string\""
        },
        {
         "metadata": "{}",
         "name": "id",
         "type": "\"string\""
        },
        {
         "metadata": "{}",
         "name": "path",
         "type": "\"string\""
        },
        {
         "metadata": "{}",
         "name": "call_type",
         "type": "\"string\""
        },
        {
         "metadata": "{}",
         "name": "extension_number",
         "type": "\"long\""
        },
        {
         "metadata": "{}",
         "name": "date_time_est",
         "type": "\"string\""
        }
       ],
       "type": "table"
      }
     },
     "output_type": "display_data"
    }
   ],
   "source": [
    "%sql\n",
    "--CREATE TABLE StatementRequestActivityRecordsCallData\n",
    "SELECT SRAR.ObjectID\n",
    "      ,SRAR.CreatedDate\n",
    "      ,SRAR.ReferenceNumber\n",
    "      ,SRAR.CustomerVendorName\n",
    "      ,SRAR.JobNumber\n",
    "      ,SRAR.JobName\n",
    "      ,SRAR.ActivityUser\n",
    "      ,SRAR.ActivityDate\n",
    "      ,SRAR.FollowUpDate\n",
    "      ,SRAR.STNID\n",
    "      ,SRAR.Notes\n",
    "      ,SRAR.Outcome\n",
    "      ,SRAR.ActivityType\n",
    "      ,SRAR.CustVendorObjectID\n",
    "      ,SRAR.VendorContactObjectID\n",
    "      ,SRAR.StatementRequestObjectID\n",
    "      ,SRAR.CreatedBy\n",
    "      ,SRAR.sub_minutes\n",
    "      ,SRAR.add_minutes\n",
    "      ,vc.Phone\n",
    "      ,vc.ContactType\n",
    "      ,SR.Status\n",
    "      ,SR.StatementWNC\n",
    "      ,ZD.Caller_name\n",
    "      ,ZD.Caller_number\n",
    "      ,ZD.Callee_name\n",
    "      ,ZD.Callee_number\n",
    "      ,ZD.duration\n",
    "      ,ZD.result\n",
    "      ,ZD.direction\n",
    "      ,ZD.type\n",
    "      ,ZD.call_id\n",
    "      ,ZD.id\n",
    "      ,ZD.path\n",
    "      ,ZD.call_type\n",
    "      ,ZD.extension_number\n",
    "      ,ZD.date_time_est\n",
    "  FROM rm_DVStatementRequestActivityRecords AS SRAR\n",
    "  INNER JOIN rm_DVVendorContacts AS VC ON SRAR.VendorContactObjectID = VC.ObjectID\n",
    "  INNER JOIN rm_DVStatementRequests AS SR ON SRAR.StatementRequestObjectID = SR.ObjectID\n",
    "  INNER JOIN ZoomData AS ZD ON \n",
    "  \n",
    "  --ZD.direction = \"outbound\"\n",
    "  --AND UPPER(SRARC.ActivityUser) = UPPER(ZD.Caller_name) \n",
    "  AND VC.Phone LIKE ZD.Callee_number + '%'\n",
    "  --AND SRAR.ActivityType = \"Called Vendor\"\n",
    "  AND (ZD.date_time_est BETWEEN SRAR.sub_minutes AND SRAR.add_minutes)\n",
    "  --OR\n",
    "  --(ZD.direction = \"inbound\"\n",
    "  --AND UPPER(SRAR.ActivityUser) = UPPER(ZD.Callee_name) \n",
    "  --AND VC.Phone LIKE (ZD.Caller_number+'%')\n",
    "  --AND SRAR.ActivityType = 'Received Call / Email' \n",
    "  --AND (ZD.date_time_est BETWEEN SRAR.sub_minutes AND SRAR.add_minutes))\n",
    "  ORDER BY SRAR.CreatedDate DESC\n",
    "  "
   ]
  },
  {
   "cell_type": "code",
   "execution_count": 0,
   "metadata": {
    "application/vnd.databricks.v1+cell": {
     "inputWidgets": {},
     "nuid": "119fc177-4eb8-48e5-bf97-33c95c5bdd96",
     "showTitle": false,
     "title": ""
    }
   },
   "outputs": [],
   "source": [
    "%sql\n",
    "--SELECT * FROM StatementRequestActivityRecordsCallData "
   ]
  }
 ],
 "metadata": {
  "application/vnd.databricks.v1+notebook": {
   "dashboards": [],
   "language": "python",
   "notebookMetadata": {
    "pythonIndentUnit": 2
   },
   "notebookName": "Report-StatementCallerKPI",
   "notebookOrigID": 3933973730561121,
   "widgets": {}
  },
  "kernelspec": {
   "display_name": "Python 3",
   "language": "python",
   "name": "python3"
  },
  "language_info": {
   "codemirror_mode": {
    "name": "ipython",
    "version": 3
   },
   "file_extension": ".py",
   "mimetype": "text/x-python",
   "name": "python",
   "nbconvert_exporter": "python",
   "pygments_lexer": "ipython3",
   "version": "3.7.3"
  }
 },
 "nbformat": 4,
 "nbformat_minor": 1
}
