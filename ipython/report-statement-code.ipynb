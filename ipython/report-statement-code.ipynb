{
 "cells": [
  {
   "cell_type": "code",
   "execution_count": 1,
   "id": "f1a41970",
   "metadata": {},
   "outputs": [],
   "source": [
    "from pyspark.sql import SparkSession\n",
    "\n",
    "spark = (\n",
    "    SparkSession\n",
    "    .builder\n",
    "    .master('local[*]')\n",
    "    .appName('PySparkShell')\n",
    "    .getOrCreate()\n",
    ")"
   ]
  },
  {
   "cell_type": "code",
   "execution_count": 2,
   "id": "e6046b23",
   "metadata": {},
   "outputs": [],
   "source": [
    "import sys\n",
    "import os\n",
    "\n",
    "sys.path.append('/dbfs/cdr/library')\n",
    "\n",
    "from pandas import set_option\n",
    "set_option('display.max.columns', None)\n",
    "\n",
    "# TODO: remove for Databricks\n",
    "from dbutils import DBUtils, FileInfo\n",
    "dbutils = DBUtils()"
   ]
  },
  {
   "cell_type": "code",
   "execution_count": 3,
   "id": "4e7f81d4",
   "metadata": {},
   "outputs": [],
   "source": [
    "from typing import Dict, List, Optional\n",
    "\n",
    "# from sparkFunctions import create_tmp_parquet\n",
    "\n",
    "# adds file system prefix /dbfs for local and dbfs: for databricks\n",
    "def resolve(path: str) -> Optional[str]:\n",
    "    try:\n",
    "        prefix = dbutils.fs.ls('/')[0].path[:5]\n",
    "        return prefix + path\n",
    "    except Exception as error:\n",
    "        print(error)"
   ]
  },
  {
   "cell_type": "code",
   "execution_count": 4,
   "id": "4366046b",
   "metadata": {},
   "outputs": [],
   "source": [
    "FOLDER = '/automation'\n",
    "\n",
    "ZOOM_FOLDER = os.path.join(FOLDER, 'ZoomData')\n",
    "BASE_FOLDER = os.path.join(FOLDER, 'OnBase')"
   ]
  },
  {
   "cell_type": "code",
   "execution_count": 31,
   "id": "71af8467",
   "metadata": {},
   "outputs": [],
   "source": [
    "path = os.path.join(ZOOM_FOLDER, 'formattedAccountCallLogs.parquet')\n",
    "calls = spark.read.parquet(resolve(path))"
   ]
  },
  {
   "cell_type": "code",
   "execution_count": 7,
   "id": "77397358",
   "metadata": {},
   "outputs": [],
   "source": [
    "path = os.path.join(BASE_FOLDER, 'rm_DVStatementRequestActivityRecords.parquet')\n",
    "activities = spark.read.parquet(resolve(path))"
   ]
  },
  {
   "cell_type": "code",
   "execution_count": 8,
   "id": "f400a4f0",
   "metadata": {},
   "outputs": [],
   "source": [
    "path = os.path.join(BASE_FOLDER, 'rm_DVStatementRequests.parquet')\n",
    "requests = spark.read.parquet(resolve(path))"
   ]
  },
  {
   "cell_type": "code",
   "execution_count": 32,
   "id": "fd46c07f",
   "metadata": {},
   "outputs": [],
   "source": [
    "path = os.path.join(BASE_FOLDER, 'rm_DVVendorContacts.parquet')\n",
    "vendors = spark.read.parquet(resolve(path))"
   ]
  },
  {
   "cell_type": "markdown",
   "id": "cfeae158",
   "metadata": {},
   "source": [
    "### Transform"
   ]
  },
  {
   "cell_type": "code",
   "execution_count": 33,
   "id": "901704b6",
   "metadata": {},
   "outputs": [],
   "source": [
    "from pyspark.sql.functions import regexp_extract, regexp_replace, trim\n",
    "\n",
    "# outgoing calls begin with +1\n",
    "# also use 1 for 1-800 numbers\n",
    "# ones not found in VENDOR table\n",
    "\n",
    "# ^ is anchor at start\n",
    "# \\+ escapes literal + sign in regular expression\n",
    "# same with *, which is generally a wild card\n",
    "pattern = r'^(\\+1|\\*)*([0-9]+)'\n",
    "\n",
    "calls = (\n",
    "    calls\n",
    "    # extract second group using index=2\n",
    "    .withColumn('CALLED_NUMBER', regexp_extract('callee_number', pattern, 2))\n",
    "    .withColumn('RECEIVED_NUMBER', regexp_extract('caller_number', pattern, 2))\n",
    ")"
   ]
  },
  {
   "cell_type": "code",
   "execution_count": 62,
   "id": "833f5dde",
   "metadata": {},
   "outputs": [],
   "source": [
    "vendors = (\n",
    "    vendors\n",
    "    .withColumn('PHONE_NUMBER', regexp_replace('Phone', '[^0-9]', ''))\n",
    "    # take up to first 10 numbers\n",
    "    .withColumn('PHONE_NUMBER', regexp_extract('PHONE_NUMBER', r'^(\\d{0,10})', 1))\n",
    ")"
   ]
  },
  {
   "cell_type": "code",
   "execution_count": 63,
   "id": "87ad12c8",
   "metadata": {},
   "outputs": [],
   "source": [
    "# register the tables\n",
    "calls.createOrReplaceTempView(name='CALLS')\n",
    "vendors.createOrReplaceTempView(name='VENDORS')\n",
    "activities.createOrReplaceTempView(name='ACTIVITIES')\n",
    "requests.createOrReplaceTempView(name='REQUESTS')"
   ]
  },
  {
   "cell_type": "code",
   "execution_count": 64,
   "id": "239143cb",
   "metadata": {},
   "outputs": [
    {
     "data": {
      "text/plain": [
       "551487"
      ]
     },
     "execution_count": 64,
     "metadata": {},
     "output_type": "execute_result"
    }
   ],
   "source": [
    "query = \"\"\"\n",
    "SELECT\n",
    "    VENDORS.*\n",
    "FROM\n",
    "    VENDORS\n",
    "        INNER JOIN\n",
    "            CALLS ON\n",
    "                VENDORS.PHONE_NUMBER = CALLS.CALLED_NUMBER\n",
    "                AND trim(CALLS.DIRECTION) = 'outbound'\n",
    "\"\"\"\n",
    "\n",
    "outbound = spark.sql(query)\n",
    "outbound.count()"
   ]
  },
  {
   "cell_type": "code",
   "execution_count": 65,
   "id": "69abe7f9",
   "metadata": {},
   "outputs": [
    {
     "data": {
      "text/plain": [
       "11819"
      ]
     },
     "execution_count": 65,
     "metadata": {},
     "output_type": "execute_result"
    }
   ],
   "source": [
    "query = \"\"\"\n",
    "SELECT\n",
    "    VENDORS.*\n",
    "FROM\n",
    "    VENDORS\n",
    "        INNER JOIN\n",
    "            CALLS ON\n",
    "                VENDORS.PHONE_NUMBER = CALLS.RECEIVED_NUMBER\n",
    "                AND trim(CALLS.DIRECTION) = 'inbound'\n",
    "\"\"\"\n",
    "\n",
    "inbound = spark.sql(query)\n",
    "inbound.count()"
   ]
  },
  {
   "cell_type": "code",
   "execution_count": null,
   "id": "15ffb5a0",
   "metadata": {},
   "outputs": [],
   "source": [
    "spark.stop()"
   ]
  }
 ],
 "metadata": {
  "kernelspec": {
   "display_name": "Python 3",
   "language": "python",
   "name": "python3"
  },
  "language_info": {
   "codemirror_mode": {
    "name": "ipython",
    "version": 3
   },
   "file_extension": ".py",
   "mimetype": "text/x-python",
   "name": "python",
   "nbconvert_exporter": "python",
   "pygments_lexer": "ipython3",
   "version": "3.7.3"
  }
 },
 "nbformat": 4,
 "nbformat_minor": 5
}
