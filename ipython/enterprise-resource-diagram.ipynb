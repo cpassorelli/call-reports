{
 "cells": [
  {
   "cell_type": "markdown",
   "id": "caeec51c",
   "metadata": {},
   "source": [
    "### [Enterprise Resource Diagram](https://stackoverflow.com/questions/44981986/sqlalchemy-er-diagram-in-python-3)"
   ]
  },
  {
   "cell_type": "code",
   "execution_count": 6,
   "id": "3e6ef13c",
   "metadata": {},
   "outputs": [],
   "source": [
    "import sys\n",
    "# !brew install graphviz\n",
    "# !{sys.executable} -m pip install pygraphviz\n",
    "# !{sys.executable} -m pip install eralchemy"
   ]
  },
  {
   "cell_type": "code",
   "execution_count": null,
   "id": "af5a8ee1",
   "metadata": {},
   "outputs": [],
   "source": [
    "import matplotlib.pyplot as plt\n",
    "import matplotlib.image as mpimg\n",
    "import pandas as pd\n",
    "from eralchemy import render_er\n",
    "\n",
    "from sqlalchemy import (MetaData, Table, Column)    \n",
    "metadata = MetaData()\n",
    "\n",
    "# create your own model ....\n",
    "users = Table('users', metadata,\n",
    "    Column('user_id', Integer(), primary_key=True),\n",
    "    Column('username', String(15), nullable=False, unique=True),\n",
    ")    \n",
    "orders = Table('orders', metadata,\n",
    "    Column('order_id', Integer()),\n",
    "    Column('user_id', ForeignKey('users.user_id')),\n",
    ")\n",
    "# add your own table ....\n",
    "\n",
    "# Show ER model from here\n",
    "filename = 'mymodel.png'\n",
    "render_er(metadata, filename)\n",
    "imgplot = plt.imshow(mpimg.imread(filename))\n",
    "plt.rcParams[\"figure.figsize\"] = (15,10)\n",
    "plt.show()"
   ]
  },
  {
   "cell_type": "code",
   "execution_count": null,
   "id": "1ce91e0e",
   "metadata": {},
   "outputs": [],
   "source": [
    "from sqlalchemy import Column, MetaData, Table\n",
    "from sqlalchemy"
   ]
  },
  {
   "cell_type": "code",
   "execution_count": null,
   "id": "43a750db",
   "metadata": {},
   "outputs": [],
   "source": []
  },
  {
   "cell_type": "code",
   "execution_count": null,
   "id": "5e7a402b",
   "metadata": {},
   "outputs": [],
   "source": []
  },
  {
   "cell_type": "code",
   "execution_count": null,
   "id": "fa8a1cca",
   "metadata": {},
   "outputs": [],
   "source": []
  },
  {
   "cell_type": "code",
   "execution_count": null,
   "id": "07b5664a",
   "metadata": {},
   "outputs": [],
   "source": []
  }
 ],
 "metadata": {
  "kernelspec": {
   "display_name": "Python 3",
   "language": "python",
   "name": "python3"
  },
  "language_info": {
   "codemirror_mode": {
    "name": "ipython",
    "version": 3
   },
   "file_extension": ".py",
   "mimetype": "text/x-python",
   "name": "python",
   "nbconvert_exporter": "python",
   "pygments_lexer": "ipython3",
   "version": "3.7.3"
  }
 },
 "nbformat": 4,
 "nbformat_minor": 5
}
