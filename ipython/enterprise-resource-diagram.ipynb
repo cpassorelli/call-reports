{
 "cells": [
  {
   "cell_type": "markdown",
   "id": "9e8db1e9",
   "metadata": {},
   "source": [
    "### [Enterprise Resource Diagram](https://stackoverflow.com/questions/44981986/sqlalchemy-er-diagram-in-python-3)"
   ]
  },
  {
   "cell_type": "code",
   "execution_count": 1,
   "id": "1ba6b6af",
   "metadata": {},
   "outputs": [],
   "source": [
    "# import sys\n",
    "# !brew install graphviz\n",
    "# !{sys.executable} -m pip install pygraphviz\n",
    "# !{sys.executable} -m pip install eralchemy"
   ]
  },
  {
   "cell_type": "code",
   "execution_count": 1,
   "id": "4fc94bea",
   "metadata": {},
   "outputs": [],
   "source": [
    "from sqlalchemy import Column, ForeignKey, MetaData, Table\n",
    "from sqlalchemy.types import (\n",
    "    BigInteger,\n",
    "    Boolean,\n",
    "    Date,\n",
    "    DateTime,\n",
    "    Integer,\n",
    "    String\n",
    ")\n",
    "\n",
    "metadata = MetaData()"
   ]
  },
  {
   "cell_type": "code",
   "execution_count": 2,
   "id": "38986189",
   "metadata": {},
   "outputs": [
    {
     "data": {
      "text/plain": [
       "{'activities': 'STATEMENT_ACTIVITIES',\n",
       " 'bridge': 'STATEMENT_ACTIVITY_CALL_BRIDGE',\n",
       " 'calls': 'EMPLOYEE_CALLS',\n",
       " 'contacts': 'VENDOR_CONTACTS',\n",
       " 'emails': 'STATEMENT_EMAILS_RECIEVED',\n",
       " 'employees': 'EMPLOYEES',\n",
       " 'requests': 'STATEMENT_REQUESTS',\n",
       " 'statements': 'STATEMENTS_RECIEVED'}"
      ]
     },
     "execution_count": 2,
     "metadata": {},
     "output_type": "execute_result"
    }
   ],
   "source": [
    "{\n",
    "    'activities': 'STATEMENT_ACTIVITIES',\n",
    "    'bridge': 'STATEMENT_ACTIVITY_CALL_BRIDGE',\n",
    "    'calls': 'EMPLOYEE_CALLS',\n",
    "    'contacts': 'VENDOR_CONTACTS',\n",
    "    'emails': 'STATEMENT_EMAILS_RECIEVED',\n",
    "    'employees': 'EMPLOYEES',\n",
    "    'requests': 'STATEMENT_REQUESTS',\n",
    "    'statements': 'STATEMENTS_RECIEVED'\n",
    "}"
   ]
  },
  {
   "cell_type": "code",
   "execution_count": 3,
   "id": "b9e539ee",
   "metadata": {},
   "outputs": [],
   "source": [
    "activities = Table(\n",
    "    'STATEMENT_ACTIVITIES',\n",
    "    metadata,\n",
    "    Column('ACTIVITY_ID', Integer(), primary_key=True),\n",
    "    Column('REFERENCE_ID', Integer(), ForeignKey('STATEMENTS_RECIEVED.REFERENCE_ID')),\n",
    "    Column('CONTACT_ID', Integer(), ForeignKey('VENDOR_CONTACTS.CONTACT_ID')),\n",
    "    Column('REQUEST_ID', Integer(), ForeignKey('STATEMENT_REQUESTS.REQUEST_ID')),\n",
    "    Column('EMPLOYEE_ID', Integer(), ForeignKey('EMPLOYEES.EMPLOYEE_ID')),\n",
    "    Column('ACTIVITY_DATE', DateTime()),\n",
    "    Column('IS_OUTGOING', Boolean()),\n",
    "    Column('JOB_NUMBER', Integer()),\n",
    "    Column('JOB_NAME', String(128)),\n",
    "    Column('VENDOR_NAME', String(128)),\n",
    "    Column('REFERENCE_NUMBER', String(128)),\n",
    "    Column('OUTCOME', String(128))\n",
    ")"
   ]
  },
  {
   "cell_type": "code",
   "execution_count": 4,
   "id": "1f4e28a1",
   "metadata": {},
   "outputs": [],
   "source": [
    "bridge = Table(\n",
    "    'STATEMENT_ACTIVITY_CALL_BRIDGE',\n",
    "    metadata,\n",
    "    Column('ACTIVITY_ID', Integer(), ForeignKey('STATEMENT_ACTIVITIES.ACTIVITY_ID')),\n",
    "    Column('CALL_ID', BigInteger(), ForeignKey('EMPLOYEE_CALLS.CALL_ID'))\n",
    ")"
   ]
  },
  {
   "cell_type": "code",
   "execution_count": 5,
   "id": "d66e189c",
   "metadata": {},
   "outputs": [],
   "source": [
    "calls = Table(\n",
    "    'EMPLOYEE_CALLS',\n",
    "    metadata,\n",
    "    Column('CALL_ID', BigInteger(), primary_key=True),\n",
    "    Column('EMPLOYEE_ID', Integer(), ForeignKey('EMPLOYEES.EMPLOYEE_ID')),\n",
    "    Column('CALL_DATE', DateTime()),\n",
    "    Column('IS_OUTGOING', Boolean()),\n",
    "    Column('CALL_TYPE', String(128)),\n",
    "    Column('CALL_RESULT', String(128)),\n",
    "    Column('CALL_DURATION', Integer()),\n",
    "    Column('PHONE', String(128))\n",
    ")"
   ]
  },
  {
   "cell_type": "code",
   "execution_count": 6,
   "id": "d1fd6681",
   "metadata": {},
   "outputs": [],
   "source": [
    "contacts = Table(\n",
    "    'VENDOR_CONTACTS',\n",
    "    metadata,\n",
    "    Column('CONTACT_ID', Integer(), primary_key=True),\n",
    "    Column('CUSTOMER_NAME', String(128)),\n",
    "    Column('CONTACT_NAME', String(128)),\n",
    "    Column('PHONE', String(128)),\n",
    "    Column('EMAIL', String(128)),\n",
    ")"
   ]
  },
  {
   "cell_type": "code",
   "execution_count": 7,
   "id": "6e2dd93d",
   "metadata": {},
   "outputs": [],
   "source": [
    "emails = Table(\n",
    "    'STATEMENT_EMAILS_RECIEVED',\n",
    "    metadata,\n",
    "    Column('REFERENCE_ID', BigInteger(), ForeignKey('STATEMENTS_RECIEVED.REFERENCE_ID')),\n",
    "    Column('EMAIL_ID', BigInteger(), ForeignKey('STATEMENTS_RECIEVED.EMAIL_ID')),\n",
    "    Column('EMAIL_DATE', DateTime()),\n",
    "    Column('MESSAGE', String(128)),\n",
    "    Column('FROM_EMAIL_ADDRESS', String(128)),\n",
    "    Column('HAS_RECON', Boolean())\n",
    ")"
   ]
  },
  {
   "cell_type": "code",
   "execution_count": 8,
   "id": "8c15c233",
   "metadata": {},
   "outputs": [],
   "source": [
    "employees = Table(\n",
    "    'EMPLOYEES',\n",
    "    metadata,\n",
    "    Column('EMPLOYEE_ID', Integer(), primary_key=True),\n",
    "    Column('EMPLOYEE_NAME', String(128)),\n",
    "    Column('ROLE', String(128)),\n",
    "    Column('EMAIL', String(128)),\n",
    "    Column('MANAGER_NAME', String(128)),\n",
    "    Column('TEAM', String(128)),\n",
    ")"
   ]
  },
  {
   "cell_type": "code",
   "execution_count": 9,
   "id": "bec9c55a",
   "metadata": {},
   "outputs": [],
   "source": [
    "requests = Table(\n",
    "    'STATEMENT_REQUESTS',\n",
    "    metadata,\n",
    "    Column('REQUEST_ID', Integer(), primary_key=True),\n",
    "    Column('EMPLOYEE_ID', Integer(), ForeignKey('EMPLOYEES.EMPLOYEE_ID')),\n",
    "    Column('REQUEST_DATE', Date()),\n",
    "    Column('REQUEST_STATUS', String(128)),\n",
    "    Column('REQUEST_METHOD', String(128)),\n",
    "    Column('REQUEST_TYPE', String(128)),\n",
    "    Column('LAST_ACTIVITY_DATE', Date()),\n",
    "    Column('LAST_RECEIVED_DATE', Date()),\n",
    "    Column('WIL_NOT_COMPLY', Boolean())\n",
    ")"
   ]
  },
  {
   "cell_type": "code",
   "execution_count": 10,
   "id": "ff1878f0",
   "metadata": {},
   "outputs": [],
   "source": [
    "statements = Table(\n",
    "    'STATEMENTS_RECIEVED',\n",
    "    metadata,\n",
    "    Column('REFERENCE_ID', Integer()),\n",
    "    Column('EMAIL_ID', BigInteger()),\n",
    "    Column('STATEMENT_DATE', DateTime())\n",
    ")"
   ]
  },
  {
   "cell_type": "code",
   "execution_count": 11,
   "id": "eb7c0aad",
   "metadata": {},
   "outputs": [],
   "source": [
    "from eralchemy import render_er\n",
    "\n",
    "file = '/tmp/statements-diagram.png'\n",
    "render_er(metadata, file)"
   ]
  },
  {
   "cell_type": "code",
   "execution_count": 12,
   "id": "778286f8",
   "metadata": {},
   "outputs": [],
   "source": [
    "file = '/tmp/statements-diagram.pdf'\n",
    "render_er(metadata, file)"
   ]
  },
  {
   "cell_type": "code",
   "execution_count": 13,
   "id": "0703b034",
   "metadata": {},
   "outputs": [],
   "source": [
    "# file = '/tmp/statements-diagram.er'\n",
    "# render_er(metadata, file)"
   ]
  }
 ],
 "metadata": {
  "kernelspec": {
   "display_name": "Python 3",
   "language": "python",
   "name": "python3"
  },
  "language_info": {
   "codemirror_mode": {
    "name": "ipython",
    "version": 3
   },
   "file_extension": ".py",
   "mimetype": "text/x-python",
   "name": "python",
   "nbconvert_exporter": "python",
   "pygments_lexer": "ipython3",
   "version": "3.7.3"
  }
 },
 "nbformat": 4,
 "nbformat_minor": 5
}
