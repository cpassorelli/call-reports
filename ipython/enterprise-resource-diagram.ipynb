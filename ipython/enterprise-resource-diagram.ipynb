{
 "cells": [
  {
   "cell_type": "markdown",
   "id": "f545515a",
   "metadata": {},
   "source": [
    "### [Enterprise Resource Diagram](https://stackoverflow.com/questions/44981986/sqlalchemy-er-diagram-in-python-3)"
   ]
  },
  {
   "cell_type": "code",
   "execution_count": 1,
   "id": "c4b93541",
   "metadata": {},
   "outputs": [],
   "source": [
    "# import sys\n",
    "# !brew install graphviz\n",
    "# !{sys.executable} -m pip install pygraphviz\n",
    "# !{sys.executable} -m pip install eralchemy"
   ]
  },
  {
   "cell_type": "code",
   "execution_count": 2,
   "id": "00ab1ad2",
   "metadata": {},
   "outputs": [],
   "source": [
    "from sqlalchemy import Column, ForeignKey, MetaData, Table\n",
    "from sqlalchemy.types import (\n",
    "    BigInteger,\n",
    "    Boolean,\n",
    "    Date,\n",
    "    DateTime,\n",
    "    Integer,\n",
    "    String\n",
    ")\n",
    "\n",
    "metadata = MetaData()"
   ]
  },
  {
   "cell_type": "code",
   "execution_count": 3,
   "id": "ac11fc5b",
   "metadata": {},
   "outputs": [],
   "source": [
    "activities = Table(\n",
    "    'activities',\n",
    "    metadata,\n",
    "    Column('ACTIVITY_ID', Integer(), primary_key=True),\n",
    "    Column('REFERENCE_ID', Integer(), ForeignKey('emails.REFERENCE_ID')),\n",
    "    Column('CONTACT_ID', Integer(), ForeignKey('contacts.CONTACT_ID')),\n",
    "    Column('REQUEST_ID', Integer(), ForeignKey('requests.REQUEST_ID')),\n",
    "    Column('EMPLOYEE_ID', Integer(), ForeignKey('employees.EMPLOYEE_ID')),\n",
    "    Column('ACTIVITY_DATE', DateTime()),\n",
    "    Column('IS_OUTGOING', Boolean()),\n",
    "    Column('JOB_NUMBER', Integer()),\n",
    "    Column('JOB_NAME', String(128)),\n",
    "    Column('VENDOR_NAME', String(128)),\n",
    "    Column('REFERENCE_NUMBER', String(128)),\n",
    "    Column('OUTCOME', String(128))\n",
    ")"
   ]
  },
  {
   "cell_type": "code",
   "execution_count": 4,
   "id": "ccff7cd6",
   "metadata": {},
   "outputs": [],
   "source": [
    "bridge = Table(\n",
    "    'bridge',\n",
    "    metadata,\n",
    "    Column('ACTIVITY_ID', Integer(), ForeignKey('activities.ACTIVITY_ID')),\n",
    "    Column('CALL_ID', BigInteger(), ForeignKey('calls.ACTIVITY_ID'))\n",
    ")"
   ]
  },
  {
   "cell_type": "code",
   "execution_count": 5,
   "id": "d861d454",
   "metadata": {},
   "outputs": [],
   "source": [
    "calls = Table(\n",
    "    'calls',\n",
    "    metadata,\n",
    "    Column('CALL_ID', BigInteger(), primary_key=True),\n",
    "    Column('EMPLOYEE_ID', Integer(), ForeignKey('employees.EMPLOYEE_ID')),\n",
    "    Column('CALL_DATE', DateTime()),\n",
    "    Column('IS_OUTGOING', Boolean()),\n",
    "    Column('CALL_TYPE', String(128)),\n",
    "    Column('CALL_RESULT', String(128)),\n",
    "    Column('CALL_DURATION', Integer()),\n",
    "    Column('PHONE', String(128))\n",
    ")"
   ]
  },
  {
   "cell_type": "code",
   "execution_count": 6,
   "id": "1cfe3a0a",
   "metadata": {},
   "outputs": [],
   "source": [
    "contacts = Table(\n",
    "    'contacts',\n",
    "    metadata,\n",
    "    Column('CONTACT_ID', Integer(), primary_key=True),\n",
    "    Column('CUSTOMER_NAME', String(128)),\n",
    "    Column('CONTACT_NAME', String(128)),\n",
    "    Column('PHONE', String(128)),\n",
    "    Column('EMAIL', String(128)),\n",
    ")"
   ]
  },
  {
   "cell_type": "code",
   "execution_count": 7,
   "id": "02c24621",
   "metadata": {},
   "outputs": [],
   "source": [
    "emails = Table(\n",
    "    'emails',\n",
    "    metadata,\n",
    "    Column('EMAIL_ID', BigInteger(), primary_key=True),\n",
    "    Column('REFERENCE_ID', BigInteger()),\n",
    "    Column('EMAIL_DATE', DateTime()),\n",
    "    Column('ATTACHMENTS', Integer())\n",
    ")"
   ]
  },
  {
   "cell_type": "code",
   "execution_count": 8,
   "id": "2df48041",
   "metadata": {},
   "outputs": [],
   "source": [
    "employees = Table(\n",
    "    'employees',\n",
    "    metadata,\n",
    "    Column('EMPLOYEE_ID', Integer(), primary_key=True),\n",
    "    Column('EMPLOYEE_NAME', String(128)),\n",
    "    Column('ROLE', String(128)),\n",
    "    Column('EMAIL', String(128)),\n",
    "    Column('MANAGER_NAME', String(128)),\n",
    "    Column('TEAM', String(128)),\n",
    ")"
   ]
  },
  {
   "cell_type": "code",
   "execution_count": 9,
   "id": "04a010e5",
   "metadata": {},
   "outputs": [],
   "source": [
    "requests = Table(\n",
    "    'requests',\n",
    "    metadata,\n",
    "    Column('REQUEST_ID', Integer(), primary_key=True),\n",
    "    Column('EMPLOYEE_ID', Integer(), ForeignKey('employees.EMPLOYEE_ID')),\n",
    "    Column('REQUEST_DATE', Date()),\n",
    "    Column('REQUEST_STATUS', String(128)),\n",
    "    Column('REQUEST_METHOD', String(128)),\n",
    "    Column('REQUEST_TYPE', String(128)),\n",
    "    Column('LAST_ACTIVITY_DATE', Date()),\n",
    "    Column('LAST_RECEIVED_DATE', Date()),\n",
    "    Column('COMPLIED', Boolean())\n",
    ")"
   ]
  },
  {
   "cell_type": "code",
   "execution_count": 10,
   "id": "942f9d82",
   "metadata": {},
   "outputs": [],
   "source": [
    "# statements = Table(\n",
    "#     'statements',\n",
    "#     metadata,\n",
    "#     Column('REFERENCE_ID', Integer()),\n",
    "#     Column('EMAIL_ID', BigInteger(), ForeignKey('emails.EMAIL_ID')),\n",
    "#     Column('STATEMENT_DATE', DateTime())\n",
    "# )"
   ]
  },
  {
   "cell_type": "code",
   "execution_count": 11,
   "id": "c6cd021e",
   "metadata": {},
   "outputs": [],
   "source": [
    "from eralchemy import render_er\n",
    "\n",
    "file = '/tmp/statements-diagram.png'\n",
    "render_er(metadata, file)"
   ]
  },
  {
   "cell_type": "code",
   "execution_count": 12,
   "id": "b1634295",
   "metadata": {},
   "outputs": [],
   "source": [
    "file = '/tmp/statements-diagram.pdf'\n",
    "render_er(metadata, file)"
   ]
  },
  {
   "cell_type": "code",
   "execution_count": 13,
   "id": "b3fdd893",
   "metadata": {},
   "outputs": [],
   "source": [
    "# file = '/tmp/statements-diagram.er'\n",
    "# render_er(metadata, file)"
   ]
  }
 ],
 "metadata": {
  "kernelspec": {
   "display_name": "Python 3",
   "language": "python",
   "name": "python3"
  },
  "language_info": {
   "codemirror_mode": {
    "name": "ipython",
    "version": 3
   },
   "file_extension": ".py",
   "mimetype": "text/x-python",
   "name": "python",
   "nbconvert_exporter": "python",
   "pygments_lexer": "ipython3",
   "version": "3.7.3"
  }
 },
 "nbformat": 4,
 "nbformat_minor": 5
}
