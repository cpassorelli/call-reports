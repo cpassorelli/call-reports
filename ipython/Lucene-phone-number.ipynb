{
 "cells": [
  {
   "cell_type": "code",
   "execution_count": 1,
   "id": "24420c9d",
   "metadata": {},
   "outputs": [
    {
     "data": {
      "text/plain": [
       "Intitializing Scala interpreter ..."
      ]
     },
     "metadata": {},
     "output_type": "display_data"
    },
    {
     "data": {
      "text/plain": [
       "Spark Web UI available at http://192.168.1.12:4042\n",
       "SparkContext available as 'sc' (version = 3.0.1, master = local[*], app id = local-1653051987468)\n",
       "SparkSession available as 'spark'\n"
      ]
     },
     "metadata": {},
     "output_type": "display_data"
    },
    {
     "data": {
      "text/plain": [
       "import org.zouzias.spark.lucenerdd._\n"
      ]
     },
     "execution_count": 1,
     "metadata": {},
     "output_type": "execute_result"
    }
   ],
   "source": [
    "import org.zouzias.spark.lucenerdd._"
   ]
  },
  {
   "cell_type": "code",
   "execution_count": 118,
   "id": "0b412345",
   "metadata": {},
   "outputs": [
    {
     "data": {
      "text/plain": [
       "table: org.apache.spark.sql.DataFrame = [ID: int, Phone: string]\n"
      ]
     },
     "execution_count": 118,
     "metadata": {},
     "output_type": "execute_result"
    }
   ],
   "source": [
    "val table = spark.read.parquet(\"/tmp/phone-calls/VendorContacts\").selectExpr(\"ObjectID as ID\", \"Phone\")"
   ]
  },
  {
   "cell_type": "code",
   "execution_count": 112,
   "id": "86def414",
   "metadata": {},
   "outputs": [
    {
     "data": {
      "text/plain": [
       "import org.apache.spark.sql.Row\n",
       "searchQuery: org.apache.spark.sql.Row => String\n"
      ]
     },
     "execution_count": 112,
     "metadata": {},
     "output_type": "execute_result"
    }
   ],
   "source": [
    "import org.apache.spark.sql.Row\n",
    "\n",
    "// +18287377552\n",
    "def searchQuery: Row => String = {\n",
    "    case row => {\n",
    "        val search = Seq(\"Phone\")\n",
    "            .map(key => key -> row.get(row.fieldIndex(key)))\n",
    "            .filter(_._2 != null)\n",
    "            .map { case (key, value) =>\n",
    "                val string = value\n",
    "                    .toString\n",
    "                    .replaceAll(\"[^0-9]\", \"\")\n",
    "                    .split(\"\")\n",
    "                    .mkString(\"-\")\n",
    "                (key, string)\n",
    "            }\n",
    "            .filter(_._2.nonEmpty)\n",
    "            .map { case (key, value) => s\"(${key}:(${value}))\" }\n",
    "            .mkString(\"-\")\n",
    "\n",
    "        if (search.nonEmpty) search else \"*:*\"\n",
    "    }\n",
    "}\n",
    "\n",
    "// searchQuery(table.sample(0.01).first)"
   ]
  },
  {
   "cell_type": "code",
   "execution_count": 121,
   "id": "1701dbb8",
   "metadata": {},
   "outputs": [
    {
     "data": {
      "text/plain": [
       "sample: org.apache.spark.sql.DataFrame = [Phone: string]\n"
      ]
     },
     "execution_count": 121,
     "metadata": {},
     "output_type": "execute_result"
    }
   ],
   "source": [
    "val sample = Seq(\"8287377552\").toDF(\"Phone\")\n",
    "// val sample = Seq(\"1 828 737 5752\").toDF(\"Phone\")"
   ]
  },
  {
   "cell_type": "code",
   "execution_count": 108,
   "id": "2add8e56",
   "metadata": {},
   "outputs": [
    {
     "data": {
      "text/plain": [
       "table: org.apache.spark.sql.DataFrame = [Phone: string]\n"
      ]
     },
     "execution_count": 108,
     "metadata": {},
     "output_type": "execute_result"
    }
   ],
   "source": [
    "val table = Seq(\"1 828 737 7552\").toDF(\"Phone\")"
   ]
  },
  {
   "cell_type": "code",
   "execution_count": 113,
   "id": "7cba75a2",
   "metadata": {},
   "outputs": [
    {
     "data": {
      "text/plain": [
       "res66: String = (Phone:(1-8-2-8-7-3-7-5-7-5-2))\n"
      ]
     },
     "execution_count": 113,
     "metadata": {},
     "output_type": "execute_result"
    }
   ],
   "source": [
    "searchQuery(sample.first)"
   ]
  },
  {
   "cell_type": "code",
   "execution_count": 114,
   "id": "0a9d5325",
   "metadata": {},
   "outputs": [
    {
     "data": {
      "text/plain": [
       "res67: String = (Phone:(1-8-2-8-7-3-7-7-5-5-2))\n"
      ]
     },
     "execution_count": 114,
     "metadata": {},
     "output_type": "execute_result"
    }
   ],
   "source": [
    "searchQuery(table.first)"
   ]
  },
  {
   "cell_type": "code",
   "execution_count": 122,
   "id": "672dfc1b",
   "metadata": {},
   "outputs": [
    {
     "data": {
      "text/plain": [
       "luceneRDD: org.zouzias.spark.lucenerdd.LuceneRDD[org.apache.spark.sql.Row] = LuceneRDD[412] at RDD at LuceneRDD.scala:54\n",
       "results: org.apache.spark.rdd.RDD[(org.apache.spark.sql.Row, Array[org.apache.spark.sql.Row])] = MapPartitionsRDD[427] at map at LuceneRDD.scala:248\n"
      ]
     },
     "execution_count": 122,
     "metadata": {},
     "output_type": "execute_result"
    }
   ],
   "source": [
    "val luceneRDD = LuceneRDD(table)\n",
    "\n",
    "val results = luceneRDD.linkDataFrame(sample, searchQuery, 8)"
   ]
  },
  {
   "cell_type": "code",
   "execution_count": 123,
   "id": "0276b28f",
   "metadata": {},
   "outputs": [
    {
     "data": {
      "text/plain": [
       "res70: Array[(org.apache.spark.sql.Row, Array[org.apache.spark.sql.Row])] = Array(([8287377552],Array([8007968707, opt1, 2, 7,31410184,0,11.4012165,128156], [8,29617332,0,11.135309,109245], [8007435637 opt 7,31339053,0,9.047127,221824], [8008888018 opt 7,34904976,0,9.047127,140100], [(310) 547-4973 ext 7,34513688,0,6.329067,241409], [8003321375 opt 5,29603247,0,5.921568,269237], [18007332383 Opt. 5,29542997,0,5.921568,36788], [4126427600 option 2,29524908,0,4.802253,21017])))\n"
      ]
     },
     "execution_count": 123,
     "metadata": {},
     "output_type": "execute_result"
    }
   ],
   "source": [
    "// results.filter(_._2.nonEmpty).take(8)\n",
    "\n",
    "results.take(1)\n",
    "\n",
    "// _table.show()"
   ]
  }
 ],
 "metadata": {
  "kernelspec": {
   "display_name": "spylon-kernel",
   "language": "scala",
   "name": "spylon-kernel"
  },
  "language_info": {
   "codemirror_mode": "text/x-scala",
   "file_extension": ".scala",
   "help_links": [
    {
     "text": "MetaKernel Magics",
     "url": "https://metakernel.readthedocs.io/en/latest/source/README.html"
    }
   ],
   "mimetype": "text/x-scala",
   "name": "scala",
   "pygments_lexer": "scala",
   "version": "0.4.1"
  }
 },
 "nbformat": 4,
 "nbformat_minor": 5
}
