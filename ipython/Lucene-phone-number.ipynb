{
 "cells": [
  {
   "cell_type": "code",
   "execution_count": 1,
   "id": "977045ed",
   "metadata": {},
   "outputs": [
    {
     "data": {
      "text/plain": [
       "Intitializing Scala interpreter ..."
      ]
     },
     "metadata": {},
     "output_type": "display_data"
    },
    {
     "data": {
      "text/plain": [
       "Spark Web UI available at http://192.168.1.12:4041\n",
       "SparkContext available as 'sc' (version = 3.0.1, master = local[*], app id = local-1653145042528)\n",
       "SparkSession available as 'spark'\n"
      ]
     },
     "metadata": {},
     "output_type": "display_data"
    },
    {
     "data": {
      "text/plain": [
       "import org.zouzias.spark.lucenerdd._\n"
      ]
     },
     "execution_count": 1,
     "metadata": {},
     "output_type": "execute_result"
    }
   ],
   "source": [
    "import org.zouzias.spark.lucenerdd._"
   ]
  },
  {
   "cell_type": "code",
   "execution_count": 196,
   "id": "4b69460c",
   "metadata": {},
   "outputs": [
    {
     "data": {
      "text/plain": [
       "activities: org.apache.spark.sql.DataFrame = [id: int, datetime: string ... 10 more fields]\n"
      ]
     },
     "execution_count": 196,
     "metadata": {},
     "output_type": "execute_result"
    }
   ],
   "source": [
    "val activities = spark.read.parquet(\"/tmp/phone-calls/_activities\")"
   ]
  },
  {
   "cell_type": "code",
   "execution_count": 197,
   "id": "4b12ddde",
   "metadata": {},
   "outputs": [
    {
     "data": {
      "text/plain": [
       "calls: org.apache.spark.sql.DataFrame = [id: string, datetime: string ... 10 more fields]\n"
      ]
     },
     "execution_count": 197,
     "metadata": {},
     "output_type": "execute_result"
    }
   ],
   "source": [
    "val calls = spark.read.parquet(\"/tmp/phone-calls/_calls\")"
   ]
  },
  {
   "cell_type": "code",
   "execution_count": 216,
   "id": "86059c2c",
   "metadata": {},
   "outputs": [
    {
     "data": {
      "text/plain": [
       "import org.apache.spark.sql.Row\n",
       "searchQuery: org.apache.spark.sql.Row => String\n",
       "res132: String = (year:(2021)) AND (month:(8)) AND (day:(20)) AND (hour:(8)) AND (user:(cierra kilpatrick)) AND (prefix:(415)) AND (main:(359))\n"
      ]
     },
     "execution_count": 216,
     "metadata": {},
     "output_type": "execute_result"
    }
   ],
   "source": [
    "import org.apache.spark.sql.Row\n",
    "\n",
    "def searchQuery: Row => String = {\n",
    "    case row => {\n",
    "        val search = Seq(\n",
    "            // \"datetime\",\n",
    "            \"year\",\n",
    "            \"month\",\n",
    "            \"day\",\n",
    "            \"hour\",\n",
    "            // \"minute\",\n",
    "            \"user\",\n",
    "            // \"phone\"\n",
    "            \"prefix\",\n",
    "            \"main\",\n",
    "            // \"suffix\"\n",
    "        )\n",
    "        .map(key => key -> row.get(row.fieldIndex(key)))\n",
    "        .filter(_._2 != null)\n",
    "        .map { case (key, value) =>\n",
    "            val string = value.toString\n",
    "            (key, string)\n",
    "        }\n",
    "        .map { case (key, value) => s\"(${key}:(${value}))\" }\n",
    "        .mkString(\" AND \")\n",
    "\n",
    "    if (search.nonEmpty) search else \"*:*\"\n",
    "    }\n",
    "}\n",
    "\n",
    "searchQuery(activities.sample(false, 1e-2, 0).first)"
   ]
  },
  {
   "cell_type": "code",
   "execution_count": 167,
   "id": "f8dcc931",
   "metadata": {},
   "outputs": [
    {
     "data": {
      "text/plain": [
       "res104: String = (datetime:(2022-05-11 14-03-35)) OR (user:(toni engle)) OR (phone:(800 826 0270))\n"
      ]
     },
     "execution_count": 167,
     "metadata": {},
     "output_type": "execute_result"
    }
   ],
   "source": [
    "searchQuery(calls.sample(false, 1e-2, 42).first)"
   ]
  },
  {
   "cell_type": "code",
   "execution_count": 217,
   "id": "f946f7e7",
   "metadata": {},
   "outputs": [
    {
     "data": {
      "text/plain": [
       "luceneRDD: org.zouzias.spark.lucenerdd.LuceneRDD[org.apache.spark.sql.Row] = LuceneRDD[1454] at RDD at LuceneRDD.scala:54\n",
       "results: org.apache.spark.rdd.RDD[(org.apache.spark.sql.Row, Array[org.apache.spark.sql.Row])] = MapPartitionsRDD[1471] at filter at <console>:118\n"
      ]
     },
     "execution_count": 217,
     "metadata": {},
     "output_type": "execute_result"
    }
   ],
   "source": [
    "val luceneRDD = LuceneRDD(activities.where(\"direction = 'outbound'\"))\n",
    "\n",
    "val results = luceneRDD.linkDataFrame(calls.where(\"direction = 'outbound'\"), searchQuery, 1).filter(_._2.nonEmpty)"
   ]
  },
  {
   "cell_type": "code",
   "execution_count": 184,
   "id": "d21b833b",
   "metadata": {},
   "outputs": [
    {
     "data": {
      "text/plain": [
       "luceneRDD: org.zouzias.spark.lucenerdd.LuceneRDD[org.apache.spark.sql.Row] = LuceneRDD[1188] at RDD at LuceneRDD.scala:54\n",
       "results: org.apache.spark.rdd.RDD[(org.apache.spark.sql.Row, Array[org.apache.spark.sql.Row])] = MapPartitionsRDD[1205] at filter at <console>:106\n"
      ]
     },
     "execution_count": 184,
     "metadata": {},
     "output_type": "execute_result"
    }
   ],
   "source": [
    "// val luceneRDD = LuceneRDD(calls.where(\"direction = 'outbound'\"))\n",
    "\n",
    "// val results = luceneRDD.linkDataFrame(activities.where(\"direction = 'outbound'\"), searchQuery, 1).filter(_._2.nonEmpty)"
   ]
  },
  {
   "cell_type": "code",
   "execution_count": 171,
   "id": "056f272e",
   "metadata": {},
   "outputs": [
    {
     "data": {
      "text/plain": [
       "res107: Long = 33\n"
      ]
     },
     "execution_count": 171,
     "metadata": {},
     "output_type": "execute_result"
    }
   ],
   "source": [
    "// calls.where(\"direction = 'outbound'\").count\n",
    "calls.where(\"direction = 'outbound'\").where(\"phone is null\").count"
   ]
  },
  {
   "cell_type": "code",
   "execution_count": 191,
   "id": "2445d5d6",
   "metadata": {},
   "outputs": [],
   "source": [
    "// results.flatMap { case (key, values) =>\n",
    "//     values.map { value =>\n",
    "//         (key, value)\n",
    "//    }\n",
    "// }\n",
    "// .take(5)\n",
    "// .foreach(println)"
   ]
  },
  {
   "cell_type": "code",
   "execution_count": 218,
   "id": "7f9141ce",
   "metadata": {},
   "outputs": [
    {
     "data": {
      "text/plain": [
       "res133: Long = 1351\n"
      ]
     },
     "execution_count": 218,
     "metadata": {},
     "output_type": "execute_result"
    }
   ],
   "source": [
    "results.count"
   ]
  },
  {
   "cell_type": "code",
   "execution_count": 194,
   "id": "bd4bfc40",
   "metadata": {},
   "outputs": [],
   "source": [
    "// activities.where(\"direction = 'outbound'\").count"
   ]
  },
  {
   "cell_type": "code",
   "execution_count": 219,
   "id": "ab977294",
   "metadata": {},
   "outputs": [
    {
     "name": "stdout",
     "output_type": "stream",
     "text": [
      "Time: 0.911113977432251 seconds.\n",
      "\n"
     ]
    },
    {
     "data": {
      "text/plain": [
       "bridge: org.apache.spark.sql.DataFrame = [id: string, _id: int ... 1 more field]\n"
      ]
     },
     "execution_count": 219,
     "metadata": {},
     "output_type": "execute_result"
    }
   ],
   "source": [
    "%%time\n",
    "results.flatMap { case (key, values) =>\n",
    "    values.map { value =>\n",
    "        (key.getAs[String](\"id\"), value.getAs[Int](\"id\"), value.getAs[Float](\"__score__\").toDouble)\n",
    "   }\n",
    "}\n",
    ".toDF(\"id\", \"_id\", \"_score\")\n",
    "// .where(\"id != _id\")\n",
    ".write\n",
    ".mode(\"overwrite\")\n",
    ".parquet(s\"/tmp/phone-calls/outbound\")\n",
    "\n",
    "\n",
    "val bridge = spark.read.parquet(\"/tmp/phone-calls/outbound\")\n",
    "// bridge.createOrReplaceTempView(\"bridge\")"
   ]
  },
  {
   "cell_type": "code",
   "execution_count": 190,
   "id": "c0b35fab",
   "metadata": {},
   "outputs": [],
   "source": [
    "// %%time\n",
    "// results.flatMap { case (key, values) =>\n",
    "//     values.map { value =>\n",
    "//         (key.getAs[Int](\"id\"), value.getAs[String](\"id\"), value.getAs[Float](\"__score__\").toDouble)\n",
    "//    }\n",
    "// }\n",
    "// .toDF(\"_id\", \"id\", \"_score\")\n",
    "// .select(\"id\", \"_id\", \"_score\")\n",
    "// // .where(\"id != _id\")\n",
    "// .write\n",
    "// .mode(\"overwrite\")\n",
    "// .parquet(s\"/tmp/phone-calls/outbound\")\n",
    "\n",
    "\n",
    "// val bridge = spark.read.parquet(\"/tmp/phone-calls/outbound\")\n",
    "// // bridge.createOrReplaceTempView(\"bridge\")"
   ]
  },
  {
   "cell_type": "code",
   "execution_count": 165,
   "id": "33d3d281",
   "metadata": {},
   "outputs": [
    {
     "name": "stdout",
     "output_type": "stream",
     "text": [
      "+------------------------------------+--------+------------------+\n",
      "|id                                  |_id     |_score            |\n",
      "+------------------------------------+--------+------------------+\n",
      "|3ec429f8-b336-439a-a17a-14da1f558daa|47588729|6.120454788208008 |\n",
      "|c8052032-8f34-449f-b4a2-721886b458f4|47952017|6.811224937438965 |\n",
      "|ca4f5bae-2a4a-4f57-bcba-4378954e6ace|35664829|6.928653240203857 |\n",
      "|bc00e2f4-8afc-451c-9450-2b4bb6855d27|46401194|7.249926567077637 |\n",
      "|49e86779-6a5a-4e67-889d-3d2561231d4e|47627392|7.474926948547363 |\n",
      "|f18a27c2-9345-44d5-8d9d-25fc1be40f71|46724665|7.549892425537109 |\n",
      "|aa181471-fddb-4e56-9b13-8c3b4ba6a9de|47838685|7.575432300567627 |\n",
      "|953a2986-c92d-498f-8c49-bdb0b2612719|47835021|7.687255859375    |\n",
      "|8068edd4-98f4-49f3-9314-23e7c9f7a36e|47776099|8.715286254882812 |\n",
      "|e9f84453-cb09-46ef-a30f-ee0d86940648|33671097|9.518377304077148 |\n",
      "|786552c8-9c95-4e75-b2a6-f24a13bb6072|46932568|9.966015815734863 |\n",
      "|812e6d1e-9e8f-4b31-9ebd-1d63178b9f73|40445314|10.228724479675293|\n",
      "|5ec3c9e6-943a-4097-82e4-b57cb032c72e|47595614|10.37509822845459 |\n",
      "|246cf47a-7e3e-4889-b413-dbaa08519df8|33209675|10.390119552612305|\n",
      "|383d3f59-d35d-4676-84cb-f824195357e6|47864008|10.640983581542969|\n",
      "|16c85a77-0a30-4964-b416-fb0449871bfe|37906013|10.727215766906738|\n",
      "|405cb642-92fb-4939-b1b5-ad1de3a6d331|37215021|10.995665550231934|\n",
      "|ee08e3e0-9498-4191-b528-64a8e8974f21|36863587|11.076032638549805|\n",
      "|fe3bc2b3-992e-4a81-bd55-e0ac4df161a5|41478739|11.079450607299805|\n",
      "|7615efdc-7c29-4fd2-8ed7-737926cfe3c3|39294307|11.152050018310547|\n",
      "+------------------------------------+--------+------------------+\n",
      "only showing top 20 rows\n",
      "\n"
     ]
    }
   ],
   "source": [
    "// bridge.show(false)\n",
    "bridge.orderBy(\"_score\").show(false)"
   ]
  },
  {
   "cell_type": "markdown",
   "id": "7476e01b",
   "metadata": {},
   "source": [
    "### Testing"
   ]
  },
  {
   "cell_type": "code",
   "execution_count": 118,
   "id": "2329d893",
   "metadata": {},
   "outputs": [
    {
     "data": {
      "text/plain": [
       "table: org.apache.spark.sql.DataFrame = [ID: int, Phone: string]\n"
      ]
     },
     "execution_count": 118,
     "metadata": {},
     "output_type": "execute_result"
    }
   ],
   "source": [
    "val table = spark.read.parquet(\"/tmp/phone-calls/VendorContacts\").selectExpr(\"ObjectID as ID\", \"Phone\")"
   ]
  },
  {
   "cell_type": "code",
   "execution_count": 112,
   "id": "9d6e1859",
   "metadata": {},
   "outputs": [
    {
     "data": {
      "text/plain": [
       "import org.apache.spark.sql.Row\n",
       "searchQuery: org.apache.spark.sql.Row => String\n"
      ]
     },
     "execution_count": 112,
     "metadata": {},
     "output_type": "execute_result"
    }
   ],
   "source": [
    "import org.apache.spark.sql.Row\n",
    "\n",
    "// +18287377552\n",
    "def searchQuery: Row => String = {\n",
    "    case row => {\n",
    "        val search = Seq(\"Phone\")\n",
    "            .map(key => key -> row.get(row.fieldIndex(key)))\n",
    "            .filter(_._2 != null)\n",
    "            .map { case (key, value) =>\n",
    "                val string = value\n",
    "                    .toString\n",
    "                    .replaceAll(\"[^0-9]\", \"\")\n",
    "                    .split(\"\")\n",
    "                    .mkString(\"-\")\n",
    "                (key, string)\n",
    "            }\n",
    "            .filter(_._2.nonEmpty)\n",
    "            .map { case (key, value) => s\"(${key}:(${value}))\" }\n",
    "            .mkString(\"-\")\n",
    "\n",
    "        if (search.nonEmpty) search else \"*:*\"\n",
    "    }\n",
    "}\n",
    "\n",
    "// searchQuery(table.sample(0.01).first)"
   ]
  },
  {
   "cell_type": "code",
   "execution_count": 121,
   "id": "4a73b25a",
   "metadata": {},
   "outputs": [
    {
     "data": {
      "text/plain": [
       "sample: org.apache.spark.sql.DataFrame = [Phone: string]\n"
      ]
     },
     "execution_count": 121,
     "metadata": {},
     "output_type": "execute_result"
    }
   ],
   "source": [
    "val sample = Seq(\"8287377552\").toDF(\"Phone\")\n",
    "// val sample = Seq(\"1 828 737 5752\").toDF(\"Phone\")"
   ]
  },
  {
   "cell_type": "code",
   "execution_count": 108,
   "id": "74ba5dfc",
   "metadata": {},
   "outputs": [
    {
     "data": {
      "text/plain": [
       "table: org.apache.spark.sql.DataFrame = [Phone: string]\n"
      ]
     },
     "execution_count": 108,
     "metadata": {},
     "output_type": "execute_result"
    }
   ],
   "source": [
    "val table = Seq(\"1 828 737 7552\").toDF(\"Phone\")"
   ]
  },
  {
   "cell_type": "code",
   "execution_count": 113,
   "id": "2a5eac05",
   "metadata": {},
   "outputs": [
    {
     "data": {
      "text/plain": [
       "res66: String = (Phone:(1-8-2-8-7-3-7-5-7-5-2))\n"
      ]
     },
     "execution_count": 113,
     "metadata": {},
     "output_type": "execute_result"
    }
   ],
   "source": [
    "searchQuery(sample.first)"
   ]
  },
  {
   "cell_type": "code",
   "execution_count": 114,
   "id": "5f358592",
   "metadata": {},
   "outputs": [
    {
     "data": {
      "text/plain": [
       "res67: String = (Phone:(1-8-2-8-7-3-7-7-5-5-2))\n"
      ]
     },
     "execution_count": 114,
     "metadata": {},
     "output_type": "execute_result"
    }
   ],
   "source": [
    "searchQuery(table.first)"
   ]
  },
  {
   "cell_type": "code",
   "execution_count": 122,
   "id": "5fb7d2e0",
   "metadata": {},
   "outputs": [
    {
     "data": {
      "text/plain": [
       "luceneRDD: org.zouzias.spark.lucenerdd.LuceneRDD[org.apache.spark.sql.Row] = LuceneRDD[412] at RDD at LuceneRDD.scala:54\n",
       "results: org.apache.spark.rdd.RDD[(org.apache.spark.sql.Row, Array[org.apache.spark.sql.Row])] = MapPartitionsRDD[427] at map at LuceneRDD.scala:248\n"
      ]
     },
     "execution_count": 122,
     "metadata": {},
     "output_type": "execute_result"
    }
   ],
   "source": [
    "val luceneRDD = LuceneRDD(table)\n",
    "\n",
    "val results = luceneRDD.linkDataFrame(sample, searchQuery, 8)"
   ]
  },
  {
   "cell_type": "code",
   "execution_count": 123,
   "id": "1907b2bb",
   "metadata": {},
   "outputs": [
    {
     "data": {
      "text/plain": [
       "res70: Array[(org.apache.spark.sql.Row, Array[org.apache.spark.sql.Row])] = Array(([8287377552],Array([8007968707, opt1, 2, 7,31410184,0,11.4012165,128156], [8,29617332,0,11.135309,109245], [8007435637 opt 7,31339053,0,9.047127,221824], [8008888018 opt 7,34904976,0,9.047127,140100], [(310) 547-4973 ext 7,34513688,0,6.329067,241409], [8003321375 opt 5,29603247,0,5.921568,269237], [18007332383 Opt. 5,29542997,0,5.921568,36788], [4126427600 option 2,29524908,0,4.802253,21017])))\n"
      ]
     },
     "execution_count": 123,
     "metadata": {},
     "output_type": "execute_result"
    }
   ],
   "source": [
    "// results.filter(_._2.nonEmpty).take(8)\n",
    "\n",
    "results.take(1)\n",
    "\n",
    "// _table.show()"
   ]
  }
 ],
 "metadata": {
  "kernelspec": {
   "display_name": "spylon-kernel",
   "language": "scala",
   "name": "spylon-kernel"
  },
  "language_info": {
   "codemirror_mode": "text/x-scala",
   "file_extension": ".scala",
   "help_links": [
    {
     "text": "MetaKernel Magics",
     "url": "https://metakernel.readthedocs.io/en/latest/source/README.html"
    }
   ],
   "mimetype": "text/x-scala",
   "name": "scala",
   "pygments_lexer": "scala",
   "version": "0.4.1"
  }
 },
 "nbformat": 4,
 "nbformat_minor": 5
}
